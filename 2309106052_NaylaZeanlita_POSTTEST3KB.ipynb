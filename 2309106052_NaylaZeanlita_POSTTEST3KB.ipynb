{
 "cells": [
  {
   "cell_type": "code",
   "execution_count": 1,
   "id": "6d5cb39e-4cad-44aa-9206-579ef773d7f4",
   "metadata": {},
   "outputs": [
    {
     "name": "stdout",
     "output_type": "stream",
     "text": [
      "=== CEK MISSING VALUE ===\n"
     ]
    },
    {
     "data": {
      "text/plain": [
       "age         0\n",
       "sex         0\n",
       "cp          0\n",
       "trestbps    0\n",
       "chol        0\n",
       "fbs         0\n",
       "restecg     0\n",
       "thalach     0\n",
       "exang       0\n",
       "oldpeak     0\n",
       "slope       0\n",
       "ca          0\n",
       "thal        0\n",
       "target      0\n",
       "dtype: int64"
      ]
     },
     "execution_count": 1,
     "metadata": {},
     "output_type": "execute_result"
    }
   ],
   "source": [
    "import pandas as pd\n",
    "data = pd.read_csv('heart.csv')\n",
    "\n",
    "print('=== CEK MISSING VALUE ===')\n",
    "data.isnull().sum()"
   ]
  },
  {
   "cell_type": "markdown",
   "id": "e1d48d50-185a-43eb-83b9-c290eda888a9",
   "metadata": {},
   "source": [
    "=== MISSING VALUE ===\n",
    "\n",
    "Tidak ada missing value, maka semua data dipertahankan"
   ]
  },
  {
   "cell_type": "code",
   "execution_count": 2,
   "id": "b4ea65e3-a67c-43b5-867d-729efccc95be",
   "metadata": {},
   "outputs": [
    {
     "name": "stdout",
     "output_type": "stream",
     "text": [
      "=== CEK DUPLICATE VALUE ===\n",
      "Total data duplikat:  723\n"
     ]
    }
   ],
   "source": [
    "print('=== CEK DUPLICATE VALUE ===')\n",
    "print('Total data duplikat: ', data.duplicated().sum())"
   ]
  },
  {
   "cell_type": "markdown",
   "id": "22b3a87b-ad73-439e-bd42-b16b16c95ed6",
   "metadata": {},
   "source": [
    "=== DUPLICATE VALUE ===\n",
    "1. Terlalu banyak data duplikat yang apabila bila dihapus akan sangat berpengaruh pada dataset. \n",
    "2. Data akan dipertahankan untuk kebutuhan analisis dan karena dalam dunia medis banyak kondisi pasien yang sama."
   ]
  },
  {
   "cell_type": "code",
   "execution_count": 3,
   "id": "9c467e75-70b8-4bbe-a8af-9850e01ee626",
   "metadata": {},
   "outputs": [
    {
     "name": "stdout",
     "output_type": "stream",
     "text": [
      "=== CEK OUTLIER KOLOM \"AGE\" ===\n"
     ]
    },
    {
     "data": {
      "text/plain": [
       "<Axes: ylabel='age'>"
      ]
     },
     "execution_count": 3,
     "metadata": {},
     "output_type": "execute_result"
    },
    {
     "data": {
      "image/png": "[encoded data removed]",
      "text/plain": [
       "<Figure size 200x300 with 1 Axes>"
      ]
     },
     "metadata": {},
     "output_type": "display_data"
    }
   ],
   "source": [
    "import matplotlib.pyplot as plt\n",
    "import seaborn as sns\n",
    "\n",
    "print('=== CEK OUTLIER KOLOM \"AGE\" ===')\n",
    "fig, ax = plt.subplots(figsize=(2,3))\n",
    "sns.boxplot(data['age'])"
   ]
  },
  {
   "cell_type": "markdown",
   "id": "c67b51c1-5a89-48ba-a08b-625bb7305b21",
   "metadata": {},
   "source": [
    "=== OUTLIER ===\n",
    "1. Tidak ada outlier, semua umur pada rentang normal.\n",
    "2. Kolom lain tidak dicek outlier karna sisanya adalah kondisi medis yang valid dan merupakan data penting"
   ]
  },
  {
   "cell_type": "code",
   "execution_count": 4,
   "id": "ac643912-6ec6-4190-83d7-9fe8b20faf0d",
   "metadata": {},
   "outputs": [
    {
     "name": "stdout",
     "output_type": "stream",
     "text": [
      "=== STANDARISASI KOLOM NUMERIK ===\n"
     ]
    },
    {
     "data": {
      "text/html": [
       "<div>\n",
       "<style scoped>\n",
       "    .dataframe tbody tr th:only-of-type {\n",
       "        vertical-align: middle;\n",
       "    }\n",
       "\n",
       "    .dataframe tbody tr th {\n",
       "        vertical-align: top;\n",
       "    }\n",
       "\n",
       "    .dataframe thead th {\n",
       "        text-align: right;\n",
       "    }\n",
       "</style>\n",
       "<table border=\"1\" class=\"dataframe\">\n",
       "  <thead>\n",
       "    <tr style=\"text-align: right;\">\n",
       "      <th></th>\n",
       "      <th>age</th>\n",
       "      <th>trestbps</th>\n",
       "      <th>chol</th>\n",
       "      <th>thalach</th>\n",
       "      <th>oldpeak</th>\n",
       "    </tr>\n",
       "  </thead>\n",
       "  <tbody>\n",
       "    <tr>\n",
       "      <th>0</th>\n",
       "      <td>-0.268437</td>\n",
       "      <td>-0.377636</td>\n",
       "      <td>-0.659332</td>\n",
       "      <td>0.821321</td>\n",
       "      <td>-0.060888</td>\n",
       "    </tr>\n",
       "    <tr>\n",
       "      <th>1</th>\n",
       "      <td>-0.158157</td>\n",
       "      <td>0.479107</td>\n",
       "      <td>-0.833861</td>\n",
       "      <td>0.255968</td>\n",
       "      <td>1.727137</td>\n",
       "    </tr>\n",
       "    <tr>\n",
       "      <th>2</th>\n",
       "      <td>1.716595</td>\n",
       "      <td>0.764688</td>\n",
       "      <td>-1.396233</td>\n",
       "      <td>-1.048692</td>\n",
       "      <td>1.301417</td>\n",
       "    </tr>\n",
       "    <tr>\n",
       "      <th>3</th>\n",
       "      <td>0.724079</td>\n",
       "      <td>0.936037</td>\n",
       "      <td>-0.833861</td>\n",
       "      <td>0.516900</td>\n",
       "      <td>-0.912329</td>\n",
       "    </tr>\n",
       "    <tr>\n",
       "      <th>4</th>\n",
       "      <td>0.834359</td>\n",
       "      <td>0.364875</td>\n",
       "      <td>0.930822</td>\n",
       "      <td>-1.874977</td>\n",
       "      <td>0.705408</td>\n",
       "    </tr>\n",
       "  </tbody>\n",
       "</table>\n",
       "</div>"
      ],
      "text/plain": [
       "        age  trestbps      chol   thalach   oldpeak\n",
       "0 -0.268437 -0.377636 -0.659332  0.821321 -0.060888\n",
       "1 -0.158157  0.479107 -0.833861  0.255968  1.727137\n",
       "2  1.716595  0.764688 -1.396233 -1.048692  1.301417\n",
       "3  0.724079  0.936037 -0.833861  0.516900 -0.912329\n",
       "4  0.834359  0.364875  0.930822 -1.874977  0.705408"
      ]
     },
     "execution_count": 4,
     "metadata": {},
     "output_type": "execute_result"
    }
   ],
   "source": [
    "from sklearn.preprocessing import StandardScaler\n",
    "\n",
    "print('=== STANDARISASI KOLOM NUMERIK ===')\n",
    "scaler = StandardScaler()\n",
    "numerik_column = ['age', 'trestbps', 'chol', 'thalach', 'oldpeak']\n",
    "x1 = data[numerik_column]\n",
    "x1 = scaler.fit_transform(x1)\n",
    "x1 = pd.DataFrame(x1, columns=numerik_column)\n",
    "x1.head()"
   ]
  },
  {
   "cell_type": "markdown",
   "id": "446eacc5-b0ee-4eee-941b-c703c209298d",
   "metadata": {},
   "source": [
    "=== STANDARISAI KOLOM NUMERIK ===\n",
    "\n",
    "Standarisasi menggunakan metode Z-Score Scalling"
   ]
  },
  {
   "cell_type": "markdown",
   "id": "92f6996f-2b62-4d8c-ab91-ffaf252d1b10",
   "metadata": {},
   "source": [
    "=== ENCODING KOLOM KATEGORIKAL ===\n",
    "\n",
    "Tidak dilakukan encoding karena kolom kategorikal sudah dalam format numerik yang sesuai \n",
    "1. sex: 0=female, 1=male✅\n",
    "2. cp: 0-3 (chest pain type, ordinal)✅\n",
    "3. fbs: 0/1 (fasting blood sugar)✅\n",
    "4. restecg: 0-2 (resting ECG results)✅\n",
    "5. exang: 0/1 (exercise induced angina)✅\n",
    "6. slope: 0-2 (slope of ST segment)✅\n",
    "7. ca: 0-4 (number of major vessels)✅\n",
    "8. thal: 0-3 (thalassemia)✅"
   ]
  },
  {
   "cell_type": "code",
   "execution_count": 5,
   "id": "d347d371-a802-4f9a-b662-16f304177b37",
   "metadata": {},
   "outputs": [
    {
     "name": "stdout",
     "output_type": "stream",
     "text": [
      "=== FEATURE ENGINEERING ===\n"
     ]
    },
    {
     "data": {
      "text/html": [
       "<div>\n",
       "<style scoped>\n",
       "    .dataframe tbody tr th:only-of-type {\n",
       "        vertical-align: middle;\n",
       "    }\n",
       "\n",
       "    .dataframe tbody tr th {\n",
       "        vertical-align: top;\n",
       "    }\n",
       "\n",
       "    .dataframe thead th {\n",
       "        text-align: right;\n",
       "    }\n",
       "</style>\n",
       "<table border=\"1\" class=\"dataframe\">\n",
       "  <thead>\n",
       "    <tr style=\"text-align: right;\">\n",
       "      <th></th>\n",
       "      <th>age</th>\n",
       "      <th>sex</th>\n",
       "      <th>cp</th>\n",
       "      <th>trestbps</th>\n",
       "      <th>chol</th>\n",
       "      <th>fbs</th>\n",
       "      <th>restecg</th>\n",
       "      <th>thalach</th>\n",
       "      <th>exang</th>\n",
       "      <th>oldpeak</th>\n",
       "      <th>slope</th>\n",
       "      <th>ca</th>\n",
       "      <th>thal</th>\n",
       "      <th>target</th>\n",
       "      <th>high_risk</th>\n",
       "    </tr>\n",
       "  </thead>\n",
       "  <tbody>\n",
       "    <tr>\n",
       "      <th>0</th>\n",
       "      <td>52</td>\n",
       "      <td>1</td>\n",
       "      <td>0</td>\n",
       "      <td>125</td>\n",
       "      <td>212</td>\n",
       "      <td>0</td>\n",
       "      <td>1</td>\n",
       "      <td>168</td>\n",
       "      <td>0</td>\n",
       "      <td>1.0</td>\n",
       "      <td>2</td>\n",
       "      <td>2</td>\n",
       "      <td>3</td>\n",
       "      <td>0</td>\n",
       "      <td>0</td>\n",
       "    </tr>\n",
       "    <tr>\n",
       "      <th>1</th>\n",
       "      <td>53</td>\n",
       "      <td>1</td>\n",
       "      <td>0</td>\n",
       "      <td>140</td>\n",
       "      <td>203</td>\n",
       "      <td>1</td>\n",
       "      <td>0</td>\n",
       "      <td>155</td>\n",
       "      <td>1</td>\n",
       "      <td>3.1</td>\n",
       "      <td>0</td>\n",
       "      <td>0</td>\n",
       "      <td>3</td>\n",
       "      <td>0</td>\n",
       "      <td>0</td>\n",
       "    </tr>\n",
       "    <tr>\n",
       "      <th>2</th>\n",
       "      <td>70</td>\n",
       "      <td>1</td>\n",
       "      <td>0</td>\n",
       "      <td>145</td>\n",
       "      <td>174</td>\n",
       "      <td>0</td>\n",
       "      <td>1</td>\n",
       "      <td>125</td>\n",
       "      <td>1</td>\n",
       "      <td>2.6</td>\n",
       "      <td>0</td>\n",
       "      <td>0</td>\n",
       "      <td>3</td>\n",
       "      <td>0</td>\n",
       "      <td>1</td>\n",
       "    </tr>\n",
       "    <tr>\n",
       "      <th>3</th>\n",
       "      <td>61</td>\n",
       "      <td>1</td>\n",
       "      <td>0</td>\n",
       "      <td>148</td>\n",
       "      <td>203</td>\n",
       "      <td>0</td>\n",
       "      <td>1</td>\n",
       "      <td>161</td>\n",
       "      <td>0</td>\n",
       "      <td>0.0</td>\n",
       "      <td>2</td>\n",
       "      <td>1</td>\n",
       "      <td>3</td>\n",
       "      <td>0</td>\n",
       "      <td>0</td>\n",
       "    </tr>\n",
       "    <tr>\n",
       "      <th>4</th>\n",
       "      <td>62</td>\n",
       "      <td>0</td>\n",
       "      <td>0</td>\n",
       "      <td>138</td>\n",
       "      <td>294</td>\n",
       "      <td>1</td>\n",
       "      <td>1</td>\n",
       "      <td>106</td>\n",
       "      <td>0</td>\n",
       "      <td>1.9</td>\n",
       "      <td>1</td>\n",
       "      <td>3</td>\n",
       "      <td>2</td>\n",
       "      <td>0</td>\n",
       "      <td>0</td>\n",
       "    </tr>\n",
       "  </tbody>\n",
       "</table>\n",
       "</div>"
      ],
      "text/plain": [
       "   age  sex  cp  trestbps  chol  fbs  restecg  thalach  exang  oldpeak  slope  \\\n",
       "0   52    1   0       125   212    0        1      168      0      1.0      2   \n",
       "1   53    1   0       140   203    1        0      155      1      3.1      0   \n",
       "2   70    1   0       145   174    0        1      125      1      2.6      0   \n",
       "3   61    1   0       148   203    0        1      161      0      0.0      2   \n",
       "4   62    0   0       138   294    1        1      106      0      1.9      1   \n",
       "\n",
       "   ca  thal  target  high_risk  \n",
       "0   2     3       0          0  \n",
       "1   0     3       0          0  \n",
       "2   0     3       0          1  \n",
       "3   1     3       0          0  \n",
       "4   3     2       0          0  "
      ]
     },
     "execution_count": 5,
     "metadata": {},
     "output_type": "execute_result"
    }
   ],
   "source": [
    "print('=== FEATURE ENGINEERING ===')\n",
    "\n",
    "# High Risk\n",
    "data['high_risk'] = (\n",
    "    ((data['age'] > 55).astype(int)) &\n",
    "    ((data['trestbps'] >= 140).astype(int) | (data['chol'] >= 240).astype(int)) &\n",
    "    (data['exang'] == 1)).astype(int)\n",
    "data.head()"
   ]
  },
  {
   "cell_type": "markdown",
   "id": "357ff81a-9bdc-4095-8292-55910edbbbc2",
   "metadata": {},
   "source": [
    "=== FEATURE ENGINEERING ===\n",
    "\n",
    "**High Risk: Identifikasi pasien dengan faktor resiko cardiovaskular yang tinggi**\n",
    "\n",
    "✅Usia > 55 tahun\n",
    "1. Risiko penyakit jantung meningkat signifikan setelah usia ini\n",
    "\n",
    "✅Tekanan darah tinggi (≥140) atau Kolesterol tinggi (≥240)\n",
    "1. Minimal salah satu dari dua faktor metabolik ini harus ada\n",
    "2. Hypertension Stage 1+ atau High Cholesterol\n",
    "\n",
    "✅Exercise-induced angina (exang = 1)\n",
    "1. Nyeri dada saat aktivitas fisik\n",
    "2. Indikator kuat adanya ischemia (kurang oksigen ke jantung)"
   ]
  },
  {
   "cell_type": "code",
   "execution_count": null,
   "id": "2e895cd3-0ef3-4072-b67b-7b8739e8dce0",
   "metadata": {},
   "outputs": [],
   "source": [
    "from sklearn.model_selection import train_test_split\n",
    "\n",
    "print('=== SPLITTING DATA ===')\n",
    "X = data.iloc[:,:-1] \n",
    "y = data.iloc[:,-1] \n",
    "X_train, X_test, y_train, y_test = train_test_split(X, y,\n",
    "test_size=0.2, random_state=42, stratify=y)\n",
    "print('Dimensi X train: ', X_train.shape)\n",
    "print('Dimensi X test: ', X_test.shape)\n",
    "print('Dimensi y train: ', y_train.shape)\n",
    "print('Dimensi y test: ', y_test.shape)"
   ]
  },
  {
   "cell_type": "markdown",
   "id": "a5759824-c87e-433b-8f5a-0e18b21338af",
   "metadata": {},
   "source": [
    "**=== SPLITTING DATA ===***\n",
    "\n",
    "1. Splitting data dengan rasio 80% training dan 20% testing.\n",
    "2. Stratify: yes untuk mempertahankan proporsi target di train dan test"
   ]
  }
 ],
 "metadata": {
  "kernelspec": {
   "display_name": "Python 3 (ipykernel)",
   "language": "python",
   "name": "python3"
  },
  "language_info": {
   "codemirror_mode": {
    "name": "ipython",
    "version": 3
   },
   "file_extension": ".py",
   "mimetype": "text/x-python",
   "name": "python",
   "nbconvert_exporter": "python",
   "pygments_lexer": "ipython3",
   "version": "3.13.7"
  }
 },
 "nbformat": 4,
 "nbformat_minor": 5
}
